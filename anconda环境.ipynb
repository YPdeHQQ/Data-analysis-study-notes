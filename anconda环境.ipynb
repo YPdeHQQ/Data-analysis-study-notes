{
 "cells": [
  {
   "cell_type": "markdown",
   "id": "f8cc182b",
   "metadata": {},
   "source": [
    "+ conda create -n pydata python=3.9"
   ]
  },
  {
   "cell_type": "markdown",
   "id": "60f77097",
   "metadata": {},
   "source": [
    "+ activate pydata (切换到创建好的环境)"
   ]
  },
  {
   "cell_type": "markdown",
   "id": "20589101",
   "metadata": {},
   "source": []
  }
 ],
 "metadata": {
  "kernelspec": {
   "display_name": "Python 3 (ipykernel)",
   "language": "python",
   "name": "python3"
  },
  "language_info": {
   "codemirror_mode": {
    "name": "ipython",
    "version": 3
   },
   "file_extension": ".py",
   "mimetype": "text/x-python",
   "name": "python",
   "nbconvert_exporter": "python",
   "pygments_lexer": "ipython3",
   "version": "3.9.13"
  }
 },
 "nbformat": 4,
 "nbformat_minor": 5
}
